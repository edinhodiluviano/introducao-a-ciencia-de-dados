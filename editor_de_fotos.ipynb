{
 "cells": [
  {
   "cell_type": "markdown",
   "id": "e32c7371-df9f-4360-9d3f-c5dcdc04a45c",
   "metadata": {},
   "source": [
    "### Instalando algumas coisas extras"
   ]
  },
  {
   "cell_type": "code",
   "execution_count": null,
   "id": "c0f9c70a-bd06-4ea1-8ae1-42ab78612061",
   "metadata": {},
   "outputs": [],
   "source": [
    "!!pip install Pillow"
   ]
  },
  {
   "cell_type": "code",
   "execution_count": null,
   "id": "b8223937-1c9f-4237-a603-662fe7a3209b",
   "metadata": {},
   "outputs": [],
   "source": [
    "!!pip install httpx"
   ]
  },
  {
   "cell_type": "markdown",
   "id": "1b6e45bb-5773-4272-b971-335cc80141e4",
   "metadata": {},
   "source": [
    "##### fazendo outras coisas nada a ver com esse exercicio..."
   ]
  },
  {
   "cell_type": "code",
   "execution_count": null,
   "id": "a6bb3e7e-924a-42ed-bb1f-84c40e11d170",
   "metadata": {},
   "outputs": [],
   "source": [
    "import httpx\n",
    "urls = [\n",
    "    'https://raw.githubusercontent.com/edinhodiluviano/introducao-a-ciencia-de-dados/refs/heads/main/exemplo2.txt',\n",
    "    'https://raw.githubusercontent.com/edinhodiluviano/introducao-a-ciencia-de-dados/refs/heads/main/glicose.txt',\n",
    "    'https://raw.githubusercontent.com/edinhodiluviano/introducao-a-ciencia-de-dados/refs/heads/main/diabetes.csv',\n",
    "]\n",
    "for url in urls:\n",
    "    resp = httpx.get(url)\n",
    "    with open(url.split('/')[-1], 'w') as f:\n",
    "        f.write(resp.text)"
   ]
  },
  {
   "cell_type": "markdown",
   "id": "d405bb36-c293-4399-ae06-6d7e6b7b9a75",
   "metadata": {},
   "source": [
    "### Importando as coisas que a gente instalou:"
   ]
  },
  {
   "cell_type": "code",
   "execution_count": null,
   "id": "51ad7796-ff42-4c41-bd82-9afe438be31c",
   "metadata": {},
   "outputs": [],
   "source": [
    "from io import BytesIO\n",
    "\n",
    "import httpx\n",
    "from PIL import Image"
   ]
  },
  {
   "cell_type": "markdown",
   "id": "02f41b63-2710-46b1-880a-ab53ad8be1df",
   "metadata": {},
   "source": [
    "##### imagem original:\n",
    "https://jooinn.com/images/closeup-of-flowers-2.jpg"
   ]
  },
  {
   "cell_type": "code",
   "execution_count": null,
   "id": "24131e49-7af6-423b-a81d-bf75e70dfc0e",
   "metadata": {},
   "outputs": [],
   "source": [
    "url = 'https://jooinn.com/images/closeup-of-flowers-2.jpg'\n",
    "resposta_do_site = httpx.get(url)\n",
    "bytes_do_site = resposta_do_site.content"
   ]
  },
  {
   "cell_type": "markdown",
   "id": "60956537-f100-4db8-a4d4-8904d24ccc9a",
   "metadata": {},
   "source": [
    "### Finalmente fazendo algo legal!"
   ]
  },
  {
   "cell_type": "code",
   "execution_count": null,
   "id": "331ce9c7-f57e-4ef6-82eb-563493ee27be",
   "metadata": {},
   "outputs": [],
   "source": [
    "def editar_pixel(r, g, b):\n",
    "    \"\"\"O pixel tem o formato (R, G, B).\"\"\"\n",
    "    return [r, b, g]\n",
    "\n",
    "\n",
    "imagem_original = Image.open(BytesIO(bytes_do_site))\n",
    "imagem_reduzida = imagem_original.resize((512, 384))\n",
    "\n",
    "novo_mapa_de_pixels = []\n",
    "for pixel in imagem_reduzida.getdata():\n",
    "    novo_pixel = tuple(editar_pixel(*pixel))\n",
    "    novo_mapa_de_pixels.append(novo_pixel)\n",
    "    \n",
    "nova_imagem = Image.new(imagem_reduzida.mode, imagem_reduzida.size)\n",
    "nova_imagem.putdata(novo_mapa_de_pixels)\n",
    "display(nova_imagem)"
   ]
  }
 ],
 "metadata": {
  "kernelspec": {
   "display_name": "Python 3 (ipykernel)",
   "language": "python",
   "name": "python3"
  },
  "language_info": {
   "codemirror_mode": {
    "name": "ipython",
    "version": 3
   },
   "file_extension": ".py",
   "mimetype": "text/x-python",
   "name": "python",
   "nbconvert_exporter": "python",
   "pygments_lexer": "ipython3",
   "version": "3.12.8"
  }
 },
 "nbformat": 4,
 "nbformat_minor": 5
}
