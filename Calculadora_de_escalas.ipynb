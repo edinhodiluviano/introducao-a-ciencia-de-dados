{
 "cells": [
  {
   "cell_type": "code",
   "execution_count": null,
   "id": "385e5024-7c7f-4511-94ed-91b5c5e45b33",
   "metadata": {},
   "outputs": [],
   "source": [
    "preferências = [\n",
    "    [2, 6, 2, 7, 5, 4, 7, 8, 9],  # profissional 0\n",
    "    [5, 1, 2, 8, 8, 3, 3, 9, 2],  # profissional 1\n",
    "    [4, 9, 7, 4, 9, 9, 7, 7, 1],  # profissional 2\n",
    "    [5, 5, 7, 9, 1, 4, 1, 7, 5],  # profissional 3\n",
    "    [7, 2, 7, 4, 2, 7, 5, 5, 3],  # profissional 4\n",
    "    [2, 5, 4, 7, 4, 8, 7, 8, 4],  # profissional 5\n",
    "    [4, 6, 4, 5, 1, 5, 7, 7, 9],  # profissional 6\n",
    "    [1, 1, 6, 3, 7, 6, 2, 6, 2],  # profissional 7\n",
    "    [8, 8, 5, 3, 1, 7, 2, 3, 3],  # profissional 8\n",
    "]"
   ]
  },
  {
   "cell_type": "code",
   "execution_count": null,
   "id": "4b1e35c1-2a56-4a3c-aefb-3e66e5408ae6",
   "metadata": {},
   "outputs": [],
   "source": [
    "def calcular_felicidade(escala, preferências):\n",
    "    soma_das_felicidades = 0\n",
    "    for dia_da_semana, plantonista in enumerate(escala):\n",
    "        preferência_do_plantonista = preferências[plantonista]\n",
    "        felicidade_do_plantonista = preferência_do_plantonista[dia_da_semana]\n",
    "        soma_das_felicidades = soma_das_felicidades + felicidade_do_plantonista\n",
    "        \n",
    "    return soma_das_felicidades"
   ]
  },
  {
   "cell_type": "code",
   "execution_count": null,
   "id": "6fceebd8-6daf-452b-9d53-4dfccf55d27f",
   "metadata": {},
   "outputs": [],
   "source": [
    "escala_1 = [0, 1, 2, 3, 4, 5, 6, 7, 8]\n",
    "calcular_felicidade(escala_1, preferências)"
   ]
  },
  {
   "cell_type": "code",
   "execution_count": null,
   "id": "25622f7c-1c30-4476-a28d-cd4f723e0c59",
   "metadata": {},
   "outputs": [],
   "source": [
    "escala_2 = [0, 1, 2, 3, 4, 5, 6, 8, 7]\n",
    "calcular_felicidade(escala_2, preferências)"
   ]
  },
  {
   "cell_type": "code",
   "execution_count": null,
   "id": "19a4196f-c829-43ac-862e-f23bd959b43e",
   "metadata": {},
   "outputs": [],
   "source": [
    "escala_3 = [0, 1, 2, 3, 4, 5, 7, 6, 8]\n",
    "calcular_felicidade(escala_3, preferências)"
   ]
  },
  {
   "cell_type": "code",
   "execution_count": null,
   "id": "9e5a423f-1099-4b84-bdab-516ff3fa40f1",
   "metadata": {},
   "outputs": [],
   "source": [
    "escala_4 = [0, 1, 2, 3, 4, 5, 7, 8, 6]\n",
    "calcular_felicidade(escala_4, preferências)"
   ]
  },
  {
   "cell_type": "code",
   "execution_count": null,
   "id": "83599862-43b6-4b9a-9e47-ce672cd4bdf9",
   "metadata": {},
   "outputs": [],
   "source": [
    "def remover(lista, posição_a_apagar):\n",
    "    posição_antiga = 0\n",
    "    nova_lista = []\n",
    "    nova_posição = 0\n",
    "    while posição_antiga < len(lista):\n",
    "        if posição_antiga != posição_a_apagar:\n",
    "            nova_lista.insert(nova_posição, lista[posição_antiga])\n",
    "            nova_posição = nova_posição + 1\n",
    "        posição_antiga = posição_antiga + 1\n",
    "    return nova_lista\n",
    "\n",
    "\n",
    "def adicionar(lista, valor, adicionar_na_posição):\n",
    "    nova_lista = []\n",
    "    posição_antiga = 0\n",
    "    nova_posição = 0\n",
    "    while posição_antiga < len(lista):\n",
    "        if posição_antiga == adicionar_na_posição:\n",
    "            nova_lista.insert(nova_posição, valor)\n",
    "            nova_posição = nova_posição + 1\n",
    "        nova_lista.insert(nova_posição, lista[posição_antiga])\n",
    "        nova_posição = nova_posição + 1\n",
    "        posição_antiga = posição_antiga + 1\n",
    "    if adicionar_na_posição == len(lista):\n",
    "        nova_lista.insert(nova_posição, valor)\n",
    "    return nova_lista\n",
    "    \n",
    "\n",
    "def combinações(plantonista, escala, número_de_plantonistas, preferências):\n",
    "    if len(escala) == número_de_plantonistas:\n",
    "        return calcular_felicidade(escala, preferências)\n",
    "    posição = 0\n",
    "    felicidade_máxima = 0\n",
    "    while posição <= len(escala):\n",
    "        escala_modificada = adicionar(escala, plantonista, posição)\n",
    "        felicidade = combinações(plantonista + 1, escala_modificada, número_de_plantonistas, preferências)\n",
    "        if felicidade > felicidade_máxima:\n",
    "            felicidade_máxima = felicidade\n",
    "        posição = posição + 1\n",
    "    return felicidade_máxima"
   ]
  },
  {
   "cell_type": "code",
   "execution_count": null,
   "id": "947f0ca9-1fd6-4dc1-8a0b-6d344c91dc1e",
   "metadata": {},
   "outputs": [],
   "source": [
    "%%time\n",
    "combinações(0, [], 9, preferências)"
   ]
  },
  {
   "cell_type": "code",
   "execution_count": null,
   "id": "63420d1d-f9b7-4108-8172-521447ee28dc",
   "metadata": {},
   "outputs": [],
   "source": [
    "%%time\n",
    "combinações(0, [], 10, preferências)"
   ]
  },
  {
   "cell_type": "code",
   "execution_count": null,
   "id": "81a2f8a7-b5de-47be-8e1c-063fcd2d8aa8",
   "metadata": {},
   "outputs": [],
   "source": [
    "%%time\n",
    "combinações(0, [], 11, preferências)"
   ]
  }
 ],
 "metadata": {
  "kernelspec": {
   "display_name": "Python 3 (ipykernel)",
   "language": "python",
   "name": "python3"
  },
  "language_info": {
   "codemirror_mode": {
    "name": "ipython",
    "version": 3
   },
   "file_extension": ".py",
   "mimetype": "text/x-python",
   "name": "python",
   "nbconvert_exporter": "python",
   "pygments_lexer": "ipython3",
   "version": "3.12.6"
  }
 },
 "nbformat": 4,
 "nbformat_minor": 5
}
