{
 "cells": [
  {
   "cell_type": "code",
   "execution_count": 1,
   "id": "a4818261-65e9-4ee4-b0c8-039ec90935ca",
   "metadata": {},
   "outputs": [
    {
     "data": {
      "text/plain": [
       "1.8688888888888888"
      ]
     },
     "execution_count": 1,
     "metadata": {},
     "output_type": "execute_result"
    }
   ],
   "source": [
    "imc1 = 80 / (174 * 174)\n",
    "imc2 = 160 / (180 * 180)\n",
    "imc2 / imc1"
   ]
  },
  {
   "cell_type": "code",
   "execution_count": 2,
   "id": "2f2bace2-617d-4685-a1c2-1aa2db51b2ad",
   "metadata": {},
   "outputs": [
    {
     "data": {
      "text/plain": [
       "2424402"
      ]
     },
     "execution_count": 2,
     "metadata": {},
     "output_type": "execute_result"
    }
   ],
   "source": [
    "x = 1101\n",
    "y = 2202\n",
    "x * y"
   ]
  },
  {
   "cell_type": "code",
   "execution_count": 3,
   "id": "dbe645da-8606-47c7-9fa0-9fd20bceb3df",
   "metadata": {},
   "outputs": [
    {
     "data": {
      "text/plain": [
       "1001"
      ]
     },
     "execution_count": 3,
     "metadata": {},
     "output_type": "execute_result"
    }
   ],
   "source": [
    "x = 1000\n",
    "x = x + 1\n",
    "x"
   ]
  },
  {
   "cell_type": "code",
   "execution_count": 4,
   "id": "a1fe7b9d-2e50-4b89-95af-7fd5b04a9fcc",
   "metadata": {},
   "outputs": [
    {
     "data": {
      "text/plain": [
       "44"
      ]
     },
     "execution_count": 4,
     "metadata": {},
     "output_type": "execute_result"
    }
   ],
   "source": [
    "x = 10\n",
    "y = 2\n",
    "z = x + y + 2\n",
    "z = z + x + 20\n",
    "z"
   ]
  },
  {
   "cell_type": "code",
   "execution_count": 6,
   "id": "255b456f-faba-435a-918b-8bb5ad5b8363",
   "metadata": {},
   "outputs": [
    {
     "ename": "TypeError",
     "evalue": "unsupported operand type(s) for +: 'int' and 'str'",
     "output_type": "error",
     "traceback": [
      "\u001b[0;31m---------------------------------------------------------------------------\u001b[0m",
      "\u001b[0;31mTypeError\u001b[0m                                 Traceback (most recent call last)",
      "Cell \u001b[0;32mIn[6], line 3\u001b[0m\n\u001b[1;32m      1\u001b[0m x \u001b[38;5;241m=\u001b[39m \u001b[38;5;241m1\u001b[39m\n\u001b[1;32m      2\u001b[0m y \u001b[38;5;241m=\u001b[39m \u001b[38;5;124m\"\u001b[39m\u001b[38;5;124mx\u001b[39m\u001b[38;5;124m\"\u001b[39m\n\u001b[0;32m----> 3\u001b[0m \u001b[43mx\u001b[49m\u001b[43m \u001b[49m\u001b[38;5;241;43m+\u001b[39;49m\u001b[43m \u001b[49m\u001b[43my\u001b[49m\n",
      "\u001b[0;31mTypeError\u001b[0m: unsupported operand type(s) for +: 'int' and 'str'"
     ]
    }
   ],
   "source": [
    "x = 1\n",
    "y = \"x\"\n",
    "x + y"
   ]
  },
  {
   "cell_type": "code",
   "execution_count": 8,
   "id": "3cf2517a-4fd4-4379-954a-98a794df08a7",
   "metadata": {},
   "outputs": [
    {
     "data": {
      "text/plain": [
       "'nan nan nan nan nan nan nan nan batman!'"
      ]
     },
     "execution_count": 8,
     "metadata": {},
     "output_type": "execute_result"
    }
   ],
   "source": [
    "s = \"nan \"\n",
    "i = 8\n",
    "(s * i) + \"batman!\""
   ]
  },
  {
   "cell_type": "code",
   "execution_count": 9,
   "id": "f55d8993-6565-4bd7-aac2-2e86d5c7bc16",
   "metadata": {},
   "outputs": [
    {
     "name": "stdout",
     "output_type": "stream",
     "text": [
      "19.817677368212443\n",
      "21.469150482230148\n",
      "23.120623596247853\n",
      "24.772096710265558\n",
      "26.42356982428326\n",
      "28.075042938300964\n",
      "29.72651605231867\n"
     ]
    }
   ],
   "source": [
    "altura = 1.74\n",
    "pesos = [60, 65, 70, 75, 80, 85, 90]\n",
    "for peso in pesos:\n",
    "    imc = peso / (altura * altura)\n",
    "    print(imc)"
   ]
  },
  {
   "cell_type": "code",
   "execution_count": 10,
   "id": "69527b03-e9c2-44f1-9b5e-e22f9a84cf97",
   "metadata": {},
   "outputs": [
    {
     "name": "stdout",
     "output_type": "stream",
     "text": [
      "60\n",
      "1.74\n",
      "19.817677368212443\n",
      "65\n",
      "1.74\n",
      "21.469150482230148\n",
      "70\n",
      "1.74\n",
      "23.120623596247853\n",
      "75\n",
      "1.74\n",
      "24.772096710265558\n",
      "80\n",
      "1.74\n",
      "26.42356982428326\n",
      "85\n",
      "1.74\n",
      "28.075042938300964\n",
      "90\n",
      "1.74\n",
      "29.72651605231867\n"
     ]
    }
   ],
   "source": [
    "altura = 1.74\n",
    "pesos = [60, 65, 70, 75, 80, 85, 90]\n",
    "for peso in pesos:\n",
    "    print(peso)\n",
    "    print(altura)\n",
    "    imc = peso / (altura * altura)\n",
    "    print(imc)"
   ]
  },
  {
   "cell_type": "markdown",
   "id": "ed6bf63d-b934-4493-a728-6ae648eb8483",
   "metadata": {},
   "source": [
    "# Exercícios"
   ]
  },
  {
   "cell_type": "markdown",
   "id": "78b48aa9-384d-48ca-843d-d402b232edba",
   "metadata": {},
   "source": [
    "### Exerício 1\n",
    "Calcule a soma dos pesos"
   ]
  },
  {
   "cell_type": "code",
   "execution_count": 12,
   "id": "1dfb6965-5d72-4789-a3fb-17cc075aa9fc",
   "metadata": {},
   "outputs": [
    {
     "data": {
      "text/plain": [
       "525"
      ]
     },
     "execution_count": 12,
     "metadata": {},
     "output_type": "execute_result"
    }
   ],
   "source": [
    "pesos = [60, 65, 70, 75, 80, 85, 90]\n",
    "soma = 0\n",
    "for peso in pesos:\n",
    "    soma = soma + peso\n",
    "soma"
   ]
  },
  {
   "cell_type": "markdown",
   "id": "e0005da0-4642-4dca-af69-1f42baf00e24",
   "metadata": {},
   "source": [
    "### Exerício 2\n",
    "Calcule a média dos pesos"
   ]
  },
  {
   "cell_type": "code",
   "execution_count": 14,
   "id": "2b6bcd11-6e89-410f-912f-480bb6fb0748",
   "metadata": {},
   "outputs": [
    {
     "data": {
      "text/plain": [
       "75.0"
      ]
     },
     "execution_count": 14,
     "metadata": {},
     "output_type": "execute_result"
    }
   ],
   "source": [
    "pesos = [60, 65, 70, 75, 80, 85, 90]\n",
    "soma = 0\n",
    "for peso in pesos:\n",
    "    soma = soma + peso\n",
    "soma / len(pesos)"
   ]
  },
  {
   "cell_type": "markdown",
   "id": "2e2e883c-ca0c-43c6-928d-5072e6f21d4d",
   "metadata": {},
   "source": [
    "### Exerício 3\n",
    "Calcule o desvio padrão dos pesos"
   ]
  },
  {
   "cell_type": "code",
   "execution_count": 15,
   "id": "9d6e790b-1af0-49d7-a85b-371827fa9db3",
   "metadata": {},
   "outputs": [
    {
     "data": {
      "text/plain": [
       "10.801234497346433"
      ]
     },
     "execution_count": 15,
     "metadata": {},
     "output_type": "execute_result"
    }
   ],
   "source": [
    "pesos = [60, 65, 70, 75, 80, 85, 90]\n",
    "\n",
    "# cálculo da média\n",
    "soma = 0\n",
    "for peso in pesos:\n",
    "    soma = soma + peso\n",
    "média = soma / len(pesos)\n",
    "\n",
    "numerador = 0\n",
    "for peso in pesos:\n",
    "    numerador = numerador + (peso - média) ** 2\n",
    "\n",
    "denominador = len(pesos) - 1\n",
    "\n",
    "desvio = (numerador / denominador) ** 0.5\n",
    "desvio"
   ]
  }
 ],
 "metadata": {
  "kernelspec": {
   "display_name": "Python 3 (ipykernel)",
   "language": "python",
   "name": "python3"
  },
  "language_info": {
   "codemirror_mode": {
    "name": "ipython",
    "version": 3
   },
   "file_extension": ".py",
   "mimetype": "text/x-python",
   "name": "python",
   "nbconvert_exporter": "python",
   "pygments_lexer": "ipython3",
   "version": "3.12.6"
  }
 },
 "nbformat": 4,
 "nbformat_minor": 5
}
